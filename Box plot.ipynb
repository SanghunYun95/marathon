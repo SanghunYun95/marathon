{
 "cells": [
  {
   "cell_type": "code",
   "execution_count": 1,
   "id": "6a0e1537",
   "metadata": {},
   "outputs": [
    {
     "name": "stderr",
     "output_type": "stream",
     "text": [
      "C:\\Users\\ysn65\\anaconda3\\envs\\init_dn\\lib\\site-packages\\IPython\\core\\interactiveshell.py:3165: DtypeWarning: Columns (21) have mixed types.Specify dtype option on import or set low_memory=False.\n",
      "  has_raised = await self.run_ast_nodes(code_ast.body, cell_name,\n"
     ]
    }
   ],
   "source": [
    "import pandas as pd\n",
    "import matplotlib.pyplot as plt\n",
    "import seaborn as sns\n",
    "\n",
    "marathon_2015_2017 = pd.read_csv('./material/marathon_2015_2017.csv')"
   ]
  },
  {
   "cell_type": "code",
   "execution_count": 3,
   "id": "d00301e8",
   "metadata": {},
   "outputs": [
    {
     "data": {
      "text/html": [
       "<div>\n",
       "<style scoped>\n",
       "    .dataframe tbody tr th:only-of-type {\n",
       "        vertical-align: middle;\n",
       "    }\n",
       "\n",
       "    .dataframe tbody tr th {\n",
       "        vertical-align: top;\n",
       "    }\n",
       "\n",
       "    .dataframe thead th {\n",
       "        text-align: right;\n",
       "    }\n",
       "</style>\n",
       "<table border=\"1\" class=\"dataframe\">\n",
       "  <thead>\n",
       "    <tr style=\"text-align: right;\">\n",
       "      <th></th>\n",
       "      <th>Name</th>\n",
       "      <th>Age</th>\n",
       "      <th>M/F</th>\n",
       "      <th>City</th>\n",
       "      <th>State</th>\n",
       "      <th>Country</th>\n",
       "      <th>5K</th>\n",
       "      <th>10K</th>\n",
       "      <th>15K</th>\n",
       "      <th>20K</th>\n",
       "      <th>...</th>\n",
       "      <th>30K</th>\n",
       "      <th>35K</th>\n",
       "      <th>40K</th>\n",
       "      <th>Pace</th>\n",
       "      <th>Official Time</th>\n",
       "      <th>Overall</th>\n",
       "      <th>Gender</th>\n",
       "      <th>Division</th>\n",
       "      <th>Year</th>\n",
       "      <th>Unnamed: 8</th>\n",
       "    </tr>\n",
       "  </thead>\n",
       "  <tbody>\n",
       "    <tr>\n",
       "      <th>6</th>\n",
       "      <td>Ritzenhein, Dathan</td>\n",
       "      <td>32</td>\n",
       "      <td>M</td>\n",
       "      <td>Rockford</td>\n",
       "      <td>MI</td>\n",
       "      <td>USA</td>\n",
       "      <td>885</td>\n",
       "      <td>1785</td>\n",
       "      <td>2720</td>\n",
       "      <td>3643</td>\n",
       "      <td>...</td>\n",
       "      <td>5519</td>\n",
       "      <td>6486</td>\n",
       "      <td>7445</td>\n",
       "      <td>301</td>\n",
       "      <td>7880</td>\n",
       "      <td>7</td>\n",
       "      <td>7</td>\n",
       "      <td>7</td>\n",
       "      <td>2015</td>\n",
       "      <td>NaN</td>\n",
       "    </tr>\n",
       "    <tr>\n",
       "      <th>7</th>\n",
       "      <td>Keflezighi, Meb</td>\n",
       "      <td>39</td>\n",
       "      <td>M</td>\n",
       "      <td>San Diego</td>\n",
       "      <td>CA</td>\n",
       "      <td>USA</td>\n",
       "      <td>884</td>\n",
       "      <td>1784</td>\n",
       "      <td>2699</td>\n",
       "      <td>3630</td>\n",
       "      <td>...</td>\n",
       "      <td>5519</td>\n",
       "      <td>6479</td>\n",
       "      <td>7498</td>\n",
       "      <td>304</td>\n",
       "      <td>7962</td>\n",
       "      <td>8</td>\n",
       "      <td>8</td>\n",
       "      <td>8</td>\n",
       "      <td>2015</td>\n",
       "      <td>NaN</td>\n",
       "    </tr>\n",
       "    <tr>\n",
       "      <th>10</th>\n",
       "      <td>Tegenkamp, Matt</td>\n",
       "      <td>33</td>\n",
       "      <td>M</td>\n",
       "      <td>Portland</td>\n",
       "      <td>OR</td>\n",
       "      <td>USA</td>\n",
       "      <td>886</td>\n",
       "      <td>1790</td>\n",
       "      <td>2733</td>\n",
       "      <td>3680</td>\n",
       "      <td>...</td>\n",
       "      <td>5592</td>\n",
       "      <td>6592</td>\n",
       "      <td>7615</td>\n",
       "      <td>307</td>\n",
       "      <td>8032</td>\n",
       "      <td>11</td>\n",
       "      <td>11</td>\n",
       "      <td>11</td>\n",
       "      <td>2015</td>\n",
       "      <td>NaN</td>\n",
       "    </tr>\n",
       "    <tr>\n",
       "      <th>11</th>\n",
       "      <td>Eggleston, Jeffrey</td>\n",
       "      <td>30</td>\n",
       "      <td>M</td>\n",
       "      <td>Boulder</td>\n",
       "      <td>CO</td>\n",
       "      <td>USA</td>\n",
       "      <td>914</td>\n",
       "      <td>1834</td>\n",
       "      <td>2766</td>\n",
       "      <td>3702</td>\n",
       "      <td>...</td>\n",
       "      <td>5610</td>\n",
       "      <td>6612</td>\n",
       "      <td>7607</td>\n",
       "      <td>308</td>\n",
       "      <td>8057</td>\n",
       "      <td>12</td>\n",
       "      <td>12</td>\n",
       "      <td>12</td>\n",
       "      <td>2015</td>\n",
       "      <td>NaN</td>\n",
       "    </tr>\n",
       "    <tr>\n",
       "      <th>13</th>\n",
       "      <td>Arciniaga, Nicholas</td>\n",
       "      <td>31</td>\n",
       "      <td>M</td>\n",
       "      <td>Flagstaff</td>\n",
       "      <td>AZ</td>\n",
       "      <td>USA</td>\n",
       "      <td>884</td>\n",
       "      <td>1784</td>\n",
       "      <td>2714</td>\n",
       "      <td>3667</td>\n",
       "      <td>...</td>\n",
       "      <td>5743</td>\n",
       "      <td>6813</td>\n",
       "      <td>7840</td>\n",
       "      <td>316</td>\n",
       "      <td>8282</td>\n",
       "      <td>14</td>\n",
       "      <td>14</td>\n",
       "      <td>14</td>\n",
       "      <td>2015</td>\n",
       "      <td>NaN</td>\n",
       "    </tr>\n",
       "  </tbody>\n",
       "</table>\n",
       "<p>5 rows × 22 columns</p>\n",
       "</div>"
      ],
      "text/plain": [
       "                   Name  Age M/F       City State Country   5K   10K   15K  \\\n",
       "6    Ritzenhein, Dathan   32   M   Rockford    MI     USA  885  1785  2720   \n",
       "7       Keflezighi, Meb   39   M  San Diego    CA     USA  884  1784  2699   \n",
       "10      Tegenkamp, Matt   33   M   Portland    OR     USA  886  1790  2733   \n",
       "11   Eggleston, Jeffrey   30   M    Boulder    CO     USA  914  1834  2766   \n",
       "13  Arciniaga, Nicholas   31   M  Flagstaff    AZ     USA  884  1784  2714   \n",
       "\n",
       "     20K  ...   30K   35K   40K  Pace  Official Time  Overall  Gender  \\\n",
       "6   3643  ...  5519  6486  7445   301           7880        7       7   \n",
       "7   3630  ...  5519  6479  7498   304           7962        8       8   \n",
       "10  3680  ...  5592  6592  7615   307           8032       11      11   \n",
       "11  3702  ...  5610  6612  7607   308           8057       12      12   \n",
       "13  3667  ...  5743  6813  7840   316           8282       14      14   \n",
       "\n",
       "    Division  Year  Unnamed: 8  \n",
       "6          7  2015         NaN  \n",
       "7          8  2015         NaN  \n",
       "10        11  2015         NaN  \n",
       "11        12  2015         NaN  \n",
       "13        14  2015         NaN  \n",
       "\n",
       "[5 rows x 22 columns]"
      ]
     },
     "execution_count": 3,
     "metadata": {},
     "output_type": "execute_result"
    }
   ],
   "source": [
    "USA_runner = marathon_2015_2017[marathon_2015_2017['Country'] == 'USA']\n",
    "USA_runner.head()"
   ]
  },
  {
   "cell_type": "code",
   "execution_count": 4,
   "id": "59d5c176",
   "metadata": {},
   "outputs": [],
   "source": [
    "USA_MALE_runner = USA_runner[USA_runner['M/F'] == 'M']\n",
    "USA_FEMALE_runner = USA_runner[USA_runner['M/F'] == 'F']"
   ]
  },
  {
   "cell_type": "code",
   "execution_count": 11,
   "id": "fe907f8f",
   "metadata": {},
   "outputs": [
    {
     "data": {
      "text/plain": [
       "<AxesSubplot:xlabel='M/F', ylabel='Pace'>"
      ]
     },
     "execution_count": 11,
     "metadata": {},
     "output_type": "execute_result"
    },
    {
     "data": {
      "image/png": "[encoded data removed]",
      "text/plain": [
       "<Figure size 1440x720 with 1 Axes>"
      ]
     },
     "metadata": {},
     "output_type": "display_data"
    }
   ],
   "source": [
    "plt.figure(figsize=(20,10))\n",
    "#sns.set(style='ticks')\n",
    "sns.set(style='whitegrid', palette='pastel')\n",
    "sns.boxplot(x='M/F', y='Pace', palette=['m', 'g'], data=USA_runner)"
   ]
  },
  {
   "cell_type": "code",
   "execution_count": 13,
   "id": "bb7b1a96",
   "metadata": {},
   "outputs": [
    {
     "data": {
      "text/plain": [
       "count    33390.00000\n",
       "mean       514.22944\n",
       "std         97.99571\n",
       "min        298.00000\n",
       "25%        442.00000\n",
       "50%        495.00000\n",
       "75%        566.00000\n",
       "max       1157.00000\n",
       "Name: Pace, dtype: float64"
      ]
     },
     "execution_count": 13,
     "metadata": {},
     "output_type": "execute_result"
    }
   ],
   "source": [
    "USA_MALE_runner_statistics = USA_MALE_runner['Pace'].describe()\n",
    "USA_MALE_runner_statistics"
   ]
  },
  {
   "cell_type": "code",
   "execution_count": 14,
   "id": "37951243",
   "metadata": {},
   "outputs": [
    {
     "data": {
      "text/plain": [
       "count    31084.000000\n",
       "mean       561.858448\n",
       "std         88.425649\n",
       "min        328.000000\n",
       "25%        499.000000\n",
       "50%        541.000000\n",
       "75%        607.000000\n",
       "max       1470.000000\n",
       "Name: Pace, dtype: float64"
      ]
     },
     "execution_count": 14,
     "metadata": {},
     "output_type": "execute_result"
    }
   ],
   "source": [
    "USA_FEMALE_runner_statistics = USA_FEMALE_runner['Pace'].describe()\n",
    "USA_FEMALE_runner_statistics"
   ]
  }
 ],
 "metadata": {
  "kernelspec": {
   "display_name": "Python 3",
   "language": "python",
   "name": "python3"
  },
  "language_info": {
   "codemirror_mode": {
    "name": "ipython",
    "version": 3
   },
   "file_extension": ".py",
   "mimetype": "text/x-python",
   "name": "python",
   "nbconvert_exporter": "python",
   "pygments_lexer": "ipython3",
   "version": "3.9.5"
  }
 },
 "nbformat": 4,
 "nbformat_minor": 5
}
