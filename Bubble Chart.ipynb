{
 "cells": [
  {
   "cell_type": "code",
   "execution_count": 1,
   "id": "8973a4d9",
   "metadata": {},
   "outputs": [],
   "source": [
    "import pandas as pd \n",
    "marathon_results_2017 = pd.read_csv('./material/marathon_results_2017.csv')\n",
    "marathon_2017 = marathon_results_2017.drop(['Unnamed: 0', 'Bib', 'Name', 'Age', 'City', 'State',\n",
    "                                            'Country', 'Citizen', 'Unnamed: 9', 'Half', 'Pace',\n",
    "                                            'Proj Time', 'Official Time', 'Overall', 'Gender',\n",
    "                                           'Division'], axis='columns')\n",
    "import numpy as np"
   ]
  },
  {
   "cell_type": "code",
   "execution_count": 3,
   "id": "eb084740",
   "metadata": {},
   "outputs": [
    {
     "name": "stdout",
     "output_type": "stream",
     "text": [
      "<class 'pandas.core.frame.DataFrame'>\n",
      "RangeIndex: 26410 entries, 0 to 26409\n",
      "Data columns (total 9 columns):\n",
      " #   Column  Non-Null Count  Dtype \n",
      "---  ------  --------------  ----- \n",
      " 0   M/F     26410 non-null  object\n",
      " 1   5K      26410 non-null  object\n",
      " 2   10K     26410 non-null  object\n",
      " 3   15K     26410 non-null  object\n",
      " 4   20K     26410 non-null  object\n",
      " 5   25K     26410 non-null  object\n",
      " 6   30K     26410 non-null  object\n",
      " 7   35K     26410 non-null  object\n",
      " 8   40K     26410 non-null  object\n",
      "dtypes: object(9)\n",
      "memory usage: 1.8+ MB\n"
     ]
    }
   ],
   "source": [
    "marathon_2017.info()"
   ]
  },
  {
   "cell_type": "code",
   "execution_count": 7,
   "id": "0d773275",
   "metadata": {},
   "outputs": [
    {
     "data": {
      "text/html": [
       "<div>\n",
       "<style scoped>\n",
       "    .dataframe tbody tr th:only-of-type {\n",
       "        vertical-align: middle;\n",
       "    }\n",
       "\n",
       "    .dataframe tbody tr th {\n",
       "        vertical-align: top;\n",
       "    }\n",
       "\n",
       "    .dataframe thead th {\n",
       "        text-align: right;\n",
       "    }\n",
       "</style>\n",
       "<table border=\"1\" class=\"dataframe\">\n",
       "  <thead>\n",
       "    <tr style=\"text-align: right;\">\n",
       "      <th></th>\n",
       "      <th>M/F</th>\n",
       "      <th>5K</th>\n",
       "      <th>10K</th>\n",
       "      <th>15K</th>\n",
       "      <th>20K</th>\n",
       "      <th>25K</th>\n",
       "      <th>30K</th>\n",
       "      <th>35K</th>\n",
       "      <th>40K</th>\n",
       "    </tr>\n",
       "  </thead>\n",
       "  <tbody>\n",
       "    <tr>\n",
       "      <th>0</th>\n",
       "      <td>M</td>\n",
       "      <td>925</td>\n",
       "      <td>1828</td>\n",
       "      <td>2744</td>\n",
       "      <td>3675</td>\n",
       "      <td>4619</td>\n",
       "      <td>5581</td>\n",
       "      <td>6499</td>\n",
       "      <td>7373</td>\n",
       "    </tr>\n",
       "    <tr>\n",
       "      <th>1</th>\n",
       "      <td>M</td>\n",
       "      <td>924</td>\n",
       "      <td>1827</td>\n",
       "      <td>2744</td>\n",
       "      <td>3675</td>\n",
       "      <td>4619</td>\n",
       "      <td>5581</td>\n",
       "      <td>6499</td>\n",
       "      <td>7394</td>\n",
       "    </tr>\n",
       "    <tr>\n",
       "      <th>2</th>\n",
       "      <td>M</td>\n",
       "      <td>925</td>\n",
       "      <td>1829</td>\n",
       "      <td>2744</td>\n",
       "      <td>3676</td>\n",
       "      <td>4620</td>\n",
       "      <td>5581</td>\n",
       "      <td>6511</td>\n",
       "      <td>7418</td>\n",
       "    </tr>\n",
       "    <tr>\n",
       "      <th>3</th>\n",
       "      <td>M</td>\n",
       "      <td>925</td>\n",
       "      <td>1829</td>\n",
       "      <td>2744</td>\n",
       "      <td>3679</td>\n",
       "      <td>4620</td>\n",
       "      <td>5581</td>\n",
       "      <td>6538</td>\n",
       "      <td>7475</td>\n",
       "    </tr>\n",
       "    <tr>\n",
       "      <th>4</th>\n",
       "      <td>M</td>\n",
       "      <td>925</td>\n",
       "      <td>1828</td>\n",
       "      <td>2744</td>\n",
       "      <td>3675</td>\n",
       "      <td>4619</td>\n",
       "      <td>5581</td>\n",
       "      <td>6521</td>\n",
       "      <td>7500</td>\n",
       "    </tr>\n",
       "  </tbody>\n",
       "</table>\n",
       "</div>"
      ],
      "text/plain": [
       "  M/F   5K   10K   15K   20K   25K   30K   35K   40K\n",
       "0   M  925  1828  2744  3675  4619  5581  6499  7373\n",
       "1   M  924  1827  2744  3675  4619  5581  6499  7394\n",
       "2   M  925  1829  2744  3676  4620  5581  6511  7418\n",
       "3   M  925  1829  2744  3679  4620  5581  6538  7475\n",
       "4   M  925  1828  2744  3675  4619  5581  6521  7500"
      ]
     },
     "execution_count": 7,
     "metadata": {},
     "output_type": "execute_result"
    }
   ],
   "source": [
    "marathon_2017.head()"
   ]
  },
  {
   "cell_type": "code",
   "execution_count": 5,
   "id": "cb4986aa",
   "metadata": {},
   "outputs": [],
   "source": [
    "# convert to  timedelta\n",
    "marathon_2017['5K'] = pd.to_timedelta(marathon_2017['5K'])\n",
    "marathon_2017['10K'] = pd.to_timedelta(marathon_2017['10K'])\n",
    "marathon_2017['15K'] = pd.to_timedelta(marathon_2017['15K'])\n",
    "marathon_2017['20K'] = pd.to_timedelta(marathon_2017['20K'])\n",
    "marathon_2017['25K'] = pd.to_timedelta(marathon_2017['25K'])\n",
    "marathon_2017['30K'] = pd.to_timedelta(marathon_2017['30K'])\n",
    "marathon_2017['35K'] = pd.to_timedelta(marathon_2017['35K'])\n",
    "marathon_2017['40K'] = pd.to_timedelta(marathon_2017['40K'])"
   ]
  },
  {
   "cell_type": "code",
   "execution_count": 6,
   "id": "8291e124",
   "metadata": {},
   "outputs": [],
   "source": [
    "# convert to seconds\n",
    "marathon_2017['5K'] = marathon_2017['5K'].astype('m8[s]').astype(np.int64)\n",
    "marathon_2017['10K'] = marathon_2017['10K'].astype('m8[s]').astype(np.int64)\n",
    "marathon_2017['15K'] = marathon_2017['15K'].astype('m8[s]').astype(np.int64)\n",
    "marathon_2017['20K'] = marathon_2017['20K'].astype('m8[s]').astype(np.int64)\n",
    "marathon_2017['25K'] = marathon_2017['25K'].astype('m8[s]').astype(np.int64)\n",
    "marathon_2017['30K'] = marathon_2017['30K'].astype('m8[s]').astype(np.int64)\n",
    "marathon_2017['35K'] = marathon_2017['35K'].astype('m8[s]').astype(np.int64)\n",
    "marathon_2017['40K'] = marathon_2017['40K'].astype('m8[s]').astype(np.int64)"
   ]
  },
  {
   "cell_type": "code",
   "execution_count": 8,
   "id": "117641e9",
   "metadata": {},
   "outputs": [],
   "source": [
    "check_time = 7200\n",
    "Lat = 0\n",
    "Long = 0\n",
    "Location = ''\n",
    "points = [[42.247835, -71.474357], [42.274032, -71.423979], [42.282364, -71.364801],\n",
    "          [42.297870, -71.284260], [42.324830, -71.259660], [42.345680, -71.215169], \n",
    "          [42.352089, -71.124979], [42.351510, -71.086980]]\n",
    "\n",
    "marathon_location = pd.DataFrame(columns=['Lat', 'Long'])\n",
    "for index, record in marathon_2017.iterrows():\n",
    "    if(record['40K'] < check_time):\n",
    "        Lat = points[7][0]\n",
    "        Long = points[7][1]\n",
    "    elif(record['35K'] < check_time):\n",
    "        Lat = points[6][0]\n",
    "        Long = points[6][1]    \n",
    "    elif(record['30K'] < check_time):\n",
    "        Lat = points[5][0]\n",
    "        Long = points[5][1]        \n",
    "    elif(record['25K'] < check_time):\n",
    "        Lat = points[4][0]\n",
    "        Long = points[4][1]        \n",
    "    elif(record['20K'] < check_time):\n",
    "        Lat = points[3][0]\n",
    "        Long = points[3][1]        \n",
    "    elif(record['15K'] < check_time):\n",
    "        Lat = points[2][0]\n",
    "        Long = points[2][1]        \n",
    "    elif(record['10K'] < check_time):\n",
    "        Lat = points[1][0]\n",
    "        Long = points[1][1]        \n",
    "    elif(record['5K'] < check_time):\n",
    "        Lat = points[0][0]\n",
    "        Long = points[0][1]        \n",
    "    else:\n",
    "        Lat = points[0][0]\n",
    "        Long = points[0][1]\n",
    "    marathon_location = marathon_location.append({'Lat': Lat, 'Long': Long}, ignore_index=True)"
   ]
  },
  {
   "cell_type": "code",
   "execution_count": 9,
   "id": "d4f3c736",
   "metadata": {},
   "outputs": [],
   "source": [
    "marathon_count = marathon_location.groupby(['Lat', 'Long']).size().reset_index(name='Count')"
   ]
  },
  {
   "cell_type": "code",
   "execution_count": 10,
   "id": "9bd2a94e",
   "metadata": {},
   "outputs": [
    {
     "data": {
      "text/html": [
       "<div>\n",
       "<style scoped>\n",
       "    .dataframe tbody tr th:only-of-type {\n",
       "        vertical-align: middle;\n",
       "    }\n",
       "\n",
       "    .dataframe tbody tr th {\n",
       "        vertical-align: top;\n",
       "    }\n",
       "\n",
       "    .dataframe thead th {\n",
       "        text-align: right;\n",
       "    }\n",
       "</style>\n",
       "<table border=\"1\" class=\"dataframe\">\n",
       "  <thead>\n",
       "    <tr style=\"text-align: right;\">\n",
       "      <th></th>\n",
       "      <th>Lat</th>\n",
       "      <th>Long</th>\n",
       "      <th>Count</th>\n",
       "    </tr>\n",
       "  </thead>\n",
       "  <tbody>\n",
       "    <tr>\n",
       "      <th>0</th>\n",
       "      <td>42.274032</td>\n",
       "      <td>-71.423979</td>\n",
       "      <td>49</td>\n",
       "    </tr>\n",
       "    <tr>\n",
       "      <th>1</th>\n",
       "      <td>42.282364</td>\n",
       "      <td>-71.364801</td>\n",
       "      <td>4435</td>\n",
       "    </tr>\n",
       "    <tr>\n",
       "      <th>2</th>\n",
       "      <td>42.297870</td>\n",
       "      <td>-71.280000</td>\n",
       "      <td>13866</td>\n",
       "    </tr>\n",
       "    <tr>\n",
       "      <th>3</th>\n",
       "      <td>42.324830</td>\n",
       "      <td>-71.259660</td>\n",
       "      <td>7261</td>\n",
       "    </tr>\n",
       "    <tr>\n",
       "      <th>4</th>\n",
       "      <td>42.345680</td>\n",
       "      <td>-71.215169</td>\n",
       "      <td>737</td>\n",
       "    </tr>\n",
       "    <tr>\n",
       "      <th>5</th>\n",
       "      <td>42.351510</td>\n",
       "      <td>-71.080000</td>\n",
       "      <td>6</td>\n",
       "    </tr>\n",
       "    <tr>\n",
       "      <th>6</th>\n",
       "      <td>42.352089</td>\n",
       "      <td>-71.124979</td>\n",
       "      <td>56</td>\n",
       "    </tr>\n",
       "  </tbody>\n",
       "</table>\n",
       "</div>"
      ],
      "text/plain": [
       "         Lat       Long  Count\n",
       "0  42.274032 -71.423979     49\n",
       "1  42.282364 -71.364801   4435\n",
       "2  42.297870 -71.280000  13866\n",
       "3  42.324830 -71.259660   7261\n",
       "4  42.345680 -71.215169    737\n",
       "5  42.351510 -71.080000      6\n",
       "6  42.352089 -71.124979     56"
      ]
     },
     "execution_count": 10,
     "metadata": {},
     "output_type": "execute_result"
    }
   ],
   "source": [
    "marathon_count"
   ]
  },
  {
   "cell_type": "code",
   "execution_count": 11,
   "id": "c5aa3ec9",
   "metadata": {},
   "outputs": [
    {
     "data": {
      "image/png": "[encoded data removed]",
      "text/plain": [
       "<Figure size 2160x720 with 1 Axes>"
      ]
     },
     "metadata": {
      "needs_background": "light"
     },
     "output_type": "display_data"
    }
   ],
   "source": [
    "import matplotlib.pyplot as plt\n",
    "plt.figure(figsize=(30,10))\n",
    "plt.scatter(marathon_count.Lat, marathon_count.Long, s=marathon_count.Count, alpha=0.5)\n",
    "\n",
    "for i, txt, in enumerate(marathon_count.Count):\n",
    "    plt.annotate(txt, (marathon_count.Lat[i], marathon_count.Long[i]), fontsize=18)\n",
    "    \n",
    "plt.title('Runners location at 2nd hours')\n",
    "plt.xlabel('Latitude')\n",
    "plt.ylabel('Longitude')\n",
    "\n",
    "plt.show()"
   ]
  }
 ],
 "metadata": {
  "kernelspec": {
   "display_name": "Python 3",
   "language": "python",
   "name": "python3"
  },
  "language_info": {
   "codemirror_mode": {
    "name": "ipython",
    "version": 3
   },
   "file_extension": ".py",
   "mimetype": "text/x-python",
   "name": "python",
   "nbconvert_exporter": "python",
   "pygments_lexer": "ipython3",
   "version": "3.9.5"
  }
 },
 "nbformat": 4,
 "nbformat_minor": 5
}
